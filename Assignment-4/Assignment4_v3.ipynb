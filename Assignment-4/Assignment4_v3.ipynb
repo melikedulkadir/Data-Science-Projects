{
 "cells": [
  {
   "cell_type": "markdown",
   "id": "32135f87",
   "metadata": {
    "id": "32135f87"
   },
   "source": [
    "# Comparison of the performances of classification models\n",
    "\n",
    "Build kNN and logistic regression classifiers using sklearn library to predict \"satisfaction\" (**label** variable) by using given data. \n",
    "- First, shuffle and split your data into train, validation and test sets randomly, with a ratio of 70:10:20 **(10 points)**. \n",
    "- Build your models (with proper comments and explanations) using training set, and do parameter selection over the validation set  **(45 points)**. \n",
    "- Compare these 2 classification models according to their accuracies (you can print accuracy values in a single table as a comprehensive view) over the test set. Comment on their classification performance **(10 points)**.\n",
    "- Plot confusion matrices for your models over the test set, and comment on the outcomes **(15 points)**. \n",
    "- Finally, plot Precision-Recall (PR) curves for each classification model over the test set and evaluate the prediction performance of each classifier **(20 points)**. \n",
    "\n",
    "Notes:\n",
    "\n",
    "* Choose the optimal k value using Minkowski distance (with trying two different p-values) for kNN model using the validation set. \n",
    "\n",
    "\n",
    "* For any parameter selection, use the validation set.\n",
    "\n",
    "\n",
    "* Don't forget to add comments into your code lines to explain how your program works, your intentions behind it. Also, do not forget to comment on the outcomes and comparisons. "
   ]
  },
  {
   "cell_type": "markdown",
   "id": "bd1abfc4",
   "metadata": {
    "pycharm": {
     "name": "#%% md\n"
    }
   },
   "source": [
    "### PART 1 : SHUFFLING AND SPLITTING DATA"
   ]
  },
  {
   "cell_type": "code",
   "execution_count": 1063,
   "id": "bcd8f095",
   "metadata": {},
   "outputs": [],
   "source": [
    "# importing necessary modules\n",
    "import warnings\n",
    "warnings.filterwarnings('ignore')\n",
    "import pandas as pd\n",
    "import numpy as np\n",
    "import seaborn as sns\n",
    "import matplotlib.pyplot as plt\n",
    "from sklearn.model_selection import train_test_split\n",
    "from sklearn.neighbors import KNeighborsClassifier as Knn\n",
    "from sklearn.linear_model import LogisticRegression\n",
    "from sklearn.preprocessing import MinMaxScaler\n",
    "from sklearn.metrics import accuracy_score, precision_score, recall_score, f1_score, confusion_matrix"
   ]
  },
  {
   "cell_type": "code",
   "execution_count": 1064,
   "id": "bf3f6ebb",
   "metadata": {},
   "outputs": [],
   "source": [
    "# reading csv data and replacing data with integer values\n",
    "data_df = pd.read_csv('data.csv')\n",
    "data_df['Gender'].replace(['Male', 'Female'],\n",
    "                        [0, 1], inplace=True)\n",
    "data_df['Customer Type'].replace(['Loyal Customer', 'disloyal Customer'],\n",
    "                        [0, 1], inplace=True)\n",
    "data_df['Type of Travel'].replace(['Personal Travel', 'Business travel'],\n",
    "                        [0, 1], inplace=True)\n",
    "data_df['Class'].replace(['Eco', 'Business','Eco Plus'],\n",
    "                        [0,1,2], inplace=True)\n",
    "data_df['satisfaction'].replace(['dissatisfied', 'satisfied'],\n",
    "                        [0,1], inplace=True)\n",
    "data_df.dropna(subset=['Arrival Delay in Minutes'],inplace=True)\n",
    "\n",
    "# splitting data to x and y\n",
    "X = data_df.loc[:,data_df.columns != 'satisfaction']\n",
    "y = data_df.loc[:,['satisfaction']]\n",
    "\n",
    "sqrt_number_of_samples = round(len(X)**0.5) # go to elbow function for this attribute\n",
    "\n",
    "X = np.array(X)\n",
    "y = np.array(y)\n",
    "\n",
    "# shuffling and spliting data into train, validation and test sets randomly\n",
    "X_train, X_test, y_train, y_test = train_test_split(X, y.reshape(-1,), test_size=0.2, random_state=1, shuffle=True)\n",
    "X_train, X_valid, y_train, y_valid = train_test_split(X_train, y_train, test_size=0.1/0.8, random_state=1, shuffle=True)\n",
    "\n",
    "scaler = MinMaxScaler()\n",
    "# scaling data. fit_transform should be done separately for each x data.\n",
    "scaled_x_train = scaler.fit_transform(X_train)\n",
    "scaled_x_test = scaler.fit_transform(X_test)\n",
    "scaled_x_valid = scaler.fit_transform(X_valid)"
   ]
  },
  {
   "cell_type": "markdown",
   "id": "1d9f94f4",
   "metadata": {
    "pycharm": {
     "name": "#%% md\n"
    }
   },
   "source": [
    "#### UTIL FUNCTIONS"
   ]
  },
  {
   "cell_type": "code",
   "execution_count": 1065,
   "id": "9180ddd8",
   "metadata": {
    "pycharm": {
     "name": "#%%\n"
    }
   },
   "outputs": [],
   "source": [
    "def display_confusion_matrix(inp_confusion_matrix):\n",
    "    # heatmap display for confusion matrix\n",
    "    labels = [\"True Neg\",\"False Pos\",\"False Neg\",\"True Pos\"] # renaming table grids\n",
    "    length = len(max(labels))+4\n",
    "    labels = np.asarray(labels).reshape(2,2)\n",
    "    annots = [f\"{str(label)}({str(value)})\" for array in np.dstack((labels,inp_confusion_matrix)) for (label, value) in array]\n",
    "    annots = np.asarray(annots).reshape(2,2).astype(str)\n",
    "    plt.figure(figsize = (10,7))\n",
    "    sns.heatmap(inp_confusion_matrix, annot=annots, cmap=\"YlGnBu\", fmt=f\".{length}\")\n",
    "    plt.show()"
   ]
  },
  {
   "cell_type": "code",
   "execution_count": 1066,
   "id": "4d0cd9fe",
   "metadata": {},
   "outputs": [],
   "source": [
    "# building kNN classifier using training set, and do parameter selection over the validation set\n",
    "def elbow(train_x, train_y,val_x, val_y):\n",
    "    # initiating empty list\n",
    "    val_error = []\n",
    "\n",
    "    # training model for every value of K\n",
    "    keys = [\"euclidean\",\"manhattan\"] # choosing optimal one from Minkowski distance\n",
    "    for key in keys:\n",
    "        for i in range(1,sqrt_number_of_samples):   # the optimal K value usually found is the square root of N, N = total number of samples\n",
    "            # Instance of KNN\n",
    "            clf = Knn(n_neighbors=(2*i)-1,metric=key)\n",
    "            clf.fit(train_x, train_y)\n",
    "\n",
    "            # appending F1 scores to empty list calculated using the predictions\n",
    "            tmp = clf.predict(val_x)\n",
    "            tmp_score = accuracy_score(tmp, val_y)\n",
    "            error = 1 - tmp_score\n",
    "            val_error.append(error)\n",
    "\n",
    "            # k value should be odd number for majority voting\n",
    "            # find the appropriate k value in the index with the highest f1 score (formula : 2*(indexOfMax)+1)\n",
    "    return (2*(val_error.index(max(val_error))+1))-1 if val_error.index(max(val_error)) < sqrt_number_of_samples else (2*(val_error.index(max(val_error))-25))-1\n",
    "    # returns the optimal K value for knn classifier"
   ]
  },
  {
   "cell_type": "markdown",
   "id": "0b81a5cb",
   "metadata": {
    "pycharm": {
     "name": "#%% md\n"
    }
   },
   "source": [
    "### PART 2 : BUILDING MODELS"
   ]
  },
  {
   "cell_type": "code",
   "execution_count": 1067,
   "id": "e633ed89",
   "metadata": {
    "pycharm": {
     "name": "#%%\n"
    }
   },
   "outputs": [
    {
     "name": "stdout",
     "output_type": "stream",
     "text": [
      "Choosen optimal k value: 69\n"
     ]
    }
   ],
   "source": [
    "# choosing optimal k value for knn model\n",
    "optimal_k = elbow(scaled_x_train,y_train,scaled_x_valid,y_valid)\n",
    "print(f\"Choosen optimal k value: {optimal_k}\")\n",
    "\n",
    "# building knn model\n",
    "knn = Knn(n_neighbors=optimal_k)\n",
    "knn.fit(scaled_x_train, y_train)\n",
    "knn_pred = knn.predict(scaled_x_test)"
   ]
  },
  {
   "cell_type": "code",
   "execution_count": 1068,
   "id": "e4b039ba",
   "metadata": {},
   "outputs": [],
   "source": [
    "# building logistic regression model\n",
    "lr = LogisticRegression(random_state=1)\n",
    "lr.fit(scaled_x_train, y_train)\n",
    "lr_pred = lr.predict(scaled_x_test)"
   ]
  },
  {
   "cell_type": "markdown",
   "id": "cd9ddffd",
   "metadata": {
    "pycharm": {
     "name": "#%% md\n"
    }
   },
   "source": [
    "### PART 3 : COMPARING CLASSIFICATION MODELS\n"
   ]
  },
  {
   "cell_type": "code",
   "execution_count": 1069,
   "id": "74d8ec80",
   "metadata": {},
   "outputs": [
    {
     "data": {
      "text/html": [
       "<div>\n",
       "<style scoped>\n",
       "    .dataframe tbody tr th:only-of-type {\n",
       "        vertical-align: middle;\n",
       "    }\n",
       "\n",
       "    .dataframe tbody tr th {\n",
       "        vertical-align: top;\n",
       "    }\n",
       "\n",
       "    .dataframe thead th {\n",
       "        text-align: right;\n",
       "    }\n",
       "</style>\n",
       "<table border=\"1\" class=\"dataframe\">\n",
       "  <thead>\n",
       "    <tr style=\"text-align: right;\">\n",
       "      <th></th>\n",
       "      <th>Model</th>\n",
       "      <th>Accuracy</th>\n",
       "    </tr>\n",
       "  </thead>\n",
       "  <tbody>\n",
       "    <tr>\n",
       "      <th>0</th>\n",
       "      <td>Accuracy of KNN classification</td>\n",
       "      <td>96.820809</td>\n",
       "    </tr>\n",
       "    <tr>\n",
       "      <th>1</th>\n",
       "      <td>Accuracy of Logistic Regression</td>\n",
       "      <td>99.132948</td>\n",
       "    </tr>\n",
       "  </tbody>\n",
       "</table>\n",
       "</div>"
      ],
      "text/plain": [
       "                             Model   Accuracy\n",
       "0   Accuracy of KNN classification  96.820809\n",
       "1  Accuracy of Logistic Regression  99.132948"
      ]
     },
     "execution_count": 1069,
     "metadata": {},
     "output_type": "execute_result"
    }
   ],
   "source": [
    "data = {'Model': [\"Accuracy of KNN classification\",\"Accuracy of Logistic Regression\"], 'Accuracy': [accuracy_score(y_test, knn_pred)*100,accuracy_score(y_test, lr_pred)*100]}\n",
    "df = pd.DataFrame(data)\n",
    "df"
   ]
  },
  {
   "cell_type": "markdown",
   "id": "1dba56ac",
   "metadata": {
    "pycharm": {
     "name": "#%% md\n"
    }
   },
   "source": [
    "As we can see in the table, the model we use Logistic Regression has slightly better predictive power according to accuracy metric. But of course, it is not enough to say Logistic Regression is better. We should check the other accuracy metrics such as precision-recall values and P-R curves."
   ]
  },
  {
   "cell_type": "markdown",
   "id": "0f288418",
   "metadata": {
    "pycharm": {
     "name": "#%% md\n"
    }
   },
   "source": [
    "### PART 4 : PLOTTING CONFUSION MATRIX\n"
   ]
  },
  {
   "cell_type": "code",
   "execution_count": 1070,
   "id": "6409ee50",
   "metadata": {},
   "outputs": [
    {
     "name": "stdout",
     "output_type": "stream",
     "text": [
      "Confusion matrix for KNN classification:\n"
     ]
    },
    {
     "data": {
      "image/png": "[encoded data removed]",
      "text/plain": [
       "<Figure size 720x504 with 2 Axes>"
      ]
     },
     "metadata": {
      "needs_background": "light"
     },
     "output_type": "display_data"
    },
    {
     "name": "stdout",
     "output_type": "stream",
     "text": [
      "Precision: 0.9833333333333333, Recall: 0.9567567567567568, F1: 0.96986301369863\n",
      "Accuracy: 96.82080924855492%\n"
     ]
    }
   ],
   "source": [
    "# calculating accuracy metrics\n",
    "knn_precision = precision_score(y_test, knn_pred)\n",
    "knn_recall = recall_score(y_test, knn_pred)\n",
    "knn_f1 = f1_score(y_test, knn_pred)\n",
    "# plotting confusion matrix\n",
    "_confusion_matrix = confusion_matrix(y_test, knn_pred)\n",
    "print(\"Confusion matrix for KNN classification:\")\n",
    "display_confusion_matrix(_confusion_matrix)\n",
    "print(f\"Precision: {knn_precision}, Recall: {knn_recall}, F1: {knn_f1}\")\n",
    "print(f\"Accuracy: {accuracy_score(y_test, knn_pred)*100}%\")"
   ]
  },
  {
   "cell_type": "markdown",
   "id": "48ac7f42",
   "metadata": {
    "pycharm": {
     "name": "#%% md\n"
    }
   },
   "source": [
    "These precision-recall and f1 values are pretty good for knn. Since False-Pos and False-Neg values are quite low, our precision and recall values are reasonable.\n",
    "\n",
    "Precision = TP / (TP + FP)\n",
    "Recall = TP / ( TP + FN)"
   ]
  },
  {
   "cell_type": "code",
   "execution_count": 1071,
   "id": "6b37db85",
   "metadata": {},
   "outputs": [
    {
     "name": "stdout",
     "output_type": "stream",
     "text": [
      "Confusion matrix for Logistic Regression:\n"
     ]
    },
    {
     "data": {
      "image/png": "[encoded data removed]",
      "text/plain": [
       "<Figure size 720x504 with 2 Axes>"
      ]
     },
     "metadata": {
      "needs_background": "light"
     },
     "output_type": "display_data"
    },
    {
     "name": "stdout",
     "output_type": "stream",
     "text": [
      "Precision: 0.989247311827957, Recall: 0.9945945945945946, F1: 0.9919137466307278\n",
      "Accuracy: 99.13294797687861%\n"
     ]
    }
   ],
   "source": [
    "# calculating accuracy metrics\n",
    "lr_precision = precision_score(y_test, lr_pred)\n",
    "lr_recall = recall_score(y_test, lr_pred)\n",
    "lr_f1 = f1_score(y_test, lr_pred)\n",
    "# plotting confusion matrix\n",
    "_confusion_matrix = confusion_matrix(y_test, lr_pred)\n",
    "print(\"Confusion matrix for Logistic Regression:\")\n",
    "display_confusion_matrix(_confusion_matrix)\n",
    "print(f\"Precision: {lr_precision}, Recall: {lr_recall}, F1: {lr_f1}\")\n",
    "print(f\"Accuracy: {accuracy_score(y_test, lr_pred)*100}%\")"
   ]
  },
  {
   "cell_type": "markdown",
   "id": "1b178c1b",
   "metadata": {
    "pycharm": {
     "name": "#%% md\n"
    }
   },
   "source": [
    "These precision recall and f1 values are perfect for logistic regression. Since False-Pos value is 0 and False-Neg value are quite low, our precision and recall values are good.\n",
    "\n",
    "Precision = TP / (TP + FP)\n",
    "    -> FP = 0\n",
    "    -> TP/TP = Precision = 1\n",
    "\n",
    "Recall = TP / ( TP + FN)"
   ]
  },
  {
   "cell_type": "markdown",
   "id": "b10cc3f8",
   "metadata": {
    "pycharm": {
     "name": "#%% md\n"
    }
   },
   "source": [
    "### PART 5 : PLOTTING PRECISION-RECALLL CURVES\n",
    "\n",
    "The precision-recall curve shows the tradeoff between precision and recall for different threshold. A high area under the curve represents both high recall and high precision, where high precision relates to a low false positive rate, and high recall relates to a low false negative rate.\n",
    "\n",
    "Higher precision means that an algorithm returns more relevant results than irrelevant ones, and high recall means that an algorithm returns most of the relevant results (whether or not irrelevant ones are also returned)."
   ]
  },
  {
   "cell_type": "code",
   "execution_count": 1072,
   "id": "b00f87f7",
   "metadata": {
    "pycharm": {
     "name": "#%%\n"
    }
   },
   "outputs": [
    {
     "data": {
      "text/plain": [
       "Text(0.5, 1.0, 'Precision-Recall curve')"
      ]
     },
     "execution_count": 1072,
     "metadata": {},
     "output_type": "execute_result"
    },
    {
     "data": {
      "image/png": "[encoded data removed]",
      "text/plain": [
       "<Figure size 432x288 with 1 Axes>"
      ]
     },
     "metadata": {
      "needs_background": "light"
     },
     "output_type": "display_data"
    }
   ],
   "source": [
    "from sklearn.metrics import plot_precision_recall_curve\n",
    "\n",
    "plot_precision_recall_curve(knn, scaled_x_test, y_test, ax = plt.gca(),name = \"KNN\")\n",
    "\n",
    "plot_precision_recall_curve(lr, scaled_x_test, y_test, ax = plt.gca(),name = \"LogReg\")\n",
    "\n",
    "plt.title('Precision-Recall curve')"
   ]
  },
  {
   "cell_type": "markdown",
   "id": "953b8de3",
   "metadata": {
    "pycharm": {
     "name": "#%% md\n"
    }
   },
   "source": [
    "Our Precision-Recall curves are like this. As you can see, the tradeoff between precision and recall is more reasonable in the Logistic Regression curve. However, there is a sharp decrease for the knn model, which is not as much as the logistic regression. The ideal state of the model is where this curve snaps to the top of the graph as a straight line. In this case, there is no tradeoff between precision and recall, and the recall value is unimportant. The closest to this is provided by Logistic Regression. At the same time, this situation can be observed in the values of accuracy metrics (f1 score, accuracy score). Our Average Precision (AP) values are the same as a result of rounding.\n",
    "\n",
    "##### As a result, the Logistic Regression model should be preferred for this dataset."
   ]
  }
 ],
 "metadata": {
  "colab": {
   "collapsed_sections": [],
   "name": "Assignment_4v2.ipynb",
   "provenance": []
  },
  "kernelspec": {
   "display_name": "Python 3",
   "language": "python",
   "name": "python3"
  },
  "language_info": {
   "codemirror_mode": {
    "name": "ipython",
    "version": 3
   },
   "file_extension": ".py",
   "mimetype": "text/x-python",
   "name": "python",
   "nbconvert_exporter": "python",
   "pygments_lexer": "ipython3",
   "version": "3.8.8"
  }
 },
 "nbformat": 4,
 "nbformat_minor": 5
}
