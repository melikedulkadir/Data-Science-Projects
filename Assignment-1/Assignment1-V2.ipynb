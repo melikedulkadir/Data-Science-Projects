{
 "cells": [
  {
   "cell_type": "code",
   "execution_count": 1,
   "id": "4e4da485",
   "metadata": {
    "pycharm": {
     "name": "#%%\n"
    }
   },
   "outputs": [],
   "source": [
    "import numpy as np\n",
    "import pandas as pd\n",
    "from sqlite3 import connect\n",
    "import sqlite3 as sql"
   ]
  },
  {
   "cell_type": "markdown",
   "id": "e884620f",
   "metadata": {
    "pycharm": {
     "name": "#%% md\n"
    }
   },
   "source": [
    "Question 1) Please read the \"cars.csv\" file as a DataFrame object. Print the length and the first 5 tuples of the DataFrame.\n"
   ]
  },
  {
   "cell_type": "code",
   "execution_count": 2,
   "id": "1f12e525",
   "metadata": {
    "scrolled": true,
    "pycharm": {
     "name": "#%%\n"
    }
   },
   "outputs": [
    {
     "name": "stdout",
     "output_type": "stream",
     "text": [
      "Length of the DataFrame: (205, 26)\n"
     ]
    },
    {
     "data": {
      "text/plain": "   car_ID  symboling                   CarName fueltype aspiration doornumber  \\\n0       1          3        alfa-romero giulia      gas        std        two   \n1       2          3       alfa-romero stelvio      gas        std        two   \n2       3          1  alfa-romero Quadrifoglio      gas        std        two   \n3       4          2               audi 100 ls      gas        std       four   \n4       5          2                audi 100ls      gas        std       four   \n\n       carbody drivewheel enginelocation  wheelbase  ...  enginesize  \\\n0  convertible        rwd          front       88.6  ...         130   \n1  convertible        rwd          front       88.6  ...         130   \n2    hatchback        rwd          front       94.5  ...         152   \n3        sedan        fwd          front       99.8  ...         109   \n4        sedan        4wd          front       99.4  ...         136   \n\n   fuelsystem  boreratio  stroke compressionratio horsepower  peakrpm citympg  \\\n0        mpfi       3.47    2.68              9.0        111     5000      21   \n1        mpfi       3.47    2.68              9.0        111     5000      21   \n2        mpfi       2.68    3.47              9.0        154     5000      19   \n3        mpfi       3.19    3.40             10.0        102     5500      24   \n4        mpfi       3.19    3.40              8.0        115     5500      18   \n\n   highwaympg    price  \n0          27  13495.0  \n1          27  16500.0  \n2          26  16500.0  \n3          30  13950.0  \n4          22  17450.0  \n\n[5 rows x 26 columns]",
      "text/html": "<div>\n<style scoped>\n    .dataframe tbody tr th:only-of-type {\n        vertical-align: middle;\n    }\n\n    .dataframe tbody tr th {\n        vertical-align: top;\n    }\n\n    .dataframe thead th {\n        text-align: right;\n    }\n</style>\n<table border=\"1\" class=\"dataframe\">\n  <thead>\n    <tr style=\"text-align: right;\">\n      <th></th>\n      <th>car_ID</th>\n      <th>symboling</th>\n      <th>CarName</th>\n      <th>fueltype</th>\n      <th>aspiration</th>\n      <th>doornumber</th>\n      <th>carbody</th>\n      <th>drivewheel</th>\n      <th>enginelocation</th>\n      <th>wheelbase</th>\n      <th>...</th>\n      <th>enginesize</th>\n      <th>fuelsystem</th>\n      <th>boreratio</th>\n      <th>stroke</th>\n      <th>compressionratio</th>\n      <th>horsepower</th>\n      <th>peakrpm</th>\n      <th>citympg</th>\n      <th>highwaympg</th>\n      <th>price</th>\n    </tr>\n  </thead>\n  <tbody>\n    <tr>\n      <th>0</th>\n      <td>1</td>\n      <td>3</td>\n      <td>alfa-romero giulia</td>\n      <td>gas</td>\n      <td>std</td>\n      <td>two</td>\n      <td>convertible</td>\n      <td>rwd</td>\n      <td>front</td>\n      <td>88.6</td>\n      <td>...</td>\n      <td>130</td>\n      <td>mpfi</td>\n      <td>3.47</td>\n      <td>2.68</td>\n      <td>9.0</td>\n      <td>111</td>\n      <td>5000</td>\n      <td>21</td>\n      <td>27</td>\n      <td>13495.0</td>\n    </tr>\n    <tr>\n      <th>1</th>\n      <td>2</td>\n      <td>3</td>\n      <td>alfa-romero stelvio</td>\n      <td>gas</td>\n      <td>std</td>\n      <td>two</td>\n      <td>convertible</td>\n      <td>rwd</td>\n      <td>front</td>\n      <td>88.6</td>\n      <td>...</td>\n      <td>130</td>\n      <td>mpfi</td>\n      <td>3.47</td>\n      <td>2.68</td>\n      <td>9.0</td>\n      <td>111</td>\n      <td>5000</td>\n      <td>21</td>\n      <td>27</td>\n      <td>16500.0</td>\n    </tr>\n    <tr>\n      <th>2</th>\n      <td>3</td>\n      <td>1</td>\n      <td>alfa-romero Quadrifoglio</td>\n      <td>gas</td>\n      <td>std</td>\n      <td>two</td>\n      <td>hatchback</td>\n      <td>rwd</td>\n      <td>front</td>\n      <td>94.5</td>\n      <td>...</td>\n      <td>152</td>\n      <td>mpfi</td>\n      <td>2.68</td>\n      <td>3.47</td>\n      <td>9.0</td>\n      <td>154</td>\n      <td>5000</td>\n      <td>19</td>\n      <td>26</td>\n      <td>16500.0</td>\n    </tr>\n    <tr>\n      <th>3</th>\n      <td>4</td>\n      <td>2</td>\n      <td>audi 100 ls</td>\n      <td>gas</td>\n      <td>std</td>\n      <td>four</td>\n      <td>sedan</td>\n      <td>fwd</td>\n      <td>front</td>\n      <td>99.8</td>\n      <td>...</td>\n      <td>109</td>\n      <td>mpfi</td>\n      <td>3.19</td>\n      <td>3.40</td>\n      <td>10.0</td>\n      <td>102</td>\n      <td>5500</td>\n      <td>24</td>\n      <td>30</td>\n      <td>13950.0</td>\n    </tr>\n    <tr>\n      <th>4</th>\n      <td>5</td>\n      <td>2</td>\n      <td>audi 100ls</td>\n      <td>gas</td>\n      <td>std</td>\n      <td>four</td>\n      <td>sedan</td>\n      <td>4wd</td>\n      <td>front</td>\n      <td>99.4</td>\n      <td>...</td>\n      <td>136</td>\n      <td>mpfi</td>\n      <td>3.19</td>\n      <td>3.40</td>\n      <td>8.0</td>\n      <td>115</td>\n      <td>5500</td>\n      <td>18</td>\n      <td>22</td>\n      <td>17450.0</td>\n    </tr>\n  </tbody>\n</table>\n<p>5 rows × 26 columns</p>\n</div>"
     },
     "execution_count": 2,
     "metadata": {},
     "output_type": "execute_result"
    }
   ],
   "source": [
    "#codes here\n",
    "cars1 =pd.read_csv('cars.csv')     # Reading cars.csv file with pandas\n",
    "cars = pd.DataFrame(cars1)\n",
    "print(\"Length of the DataFrame:\",cars.shape)\n",
    "cars.head()"
   ]
  },
  {
   "cell_type": "markdown",
   "id": "5b84430c",
   "metadata": {
    "pycharm": {
     "name": "#%% md\n"
    }
   },
   "source": [
    "Question 2) Use \"price\" attribute to crate array and print mean, minimum, maximum value of price\n"
   ]
  },
  {
   "cell_type": "code",
   "execution_count": 3,
   "id": "4d8d43e1",
   "metadata": {
    "pycharm": {
     "name": "#%%\n"
    }
   },
   "outputs": [
    {
     "name": "stdout",
     "output_type": "stream",
     "text": [
      "Mean Value: 13276.710570731706\n",
      "Minimum Value: 5118.0\n",
      "Maximum Value: 45400.0\n"
     ]
    }
   ],
   "source": [
    "#codes here\n",
    "prices = cars['price']            # Creating array with price attribute\n",
    "print(\"Mean Value:\",prices.mean())\n",
    "print(\"Minimum Value:\",prices.min())\n",
    "print(\"Maximum Value:\",prices.max())"
   ]
  },
  {
   "cell_type": "markdown",
   "id": "ebf09f3b",
   "metadata": {
    "pycharm": {
     "name": "#%% md\n"
    }
   },
   "source": [
    "Question 3) Show \"enginesize\" > average of engine size and car name for 20 records\n"
   ]
  },
  {
   "cell_type": "code",
   "execution_count": 4,
   "id": "304e0c57",
   "metadata": {
    "pycharm": {
     "name": "#%%\n"
    }
   },
   "outputs": [
    {
     "data": {
      "text/plain": "    enginesize                    CarName\n0          130         alfa-romero giulia\n1          130        alfa-romero stelvio\n2          152   alfa-romero Quadrifoglio\n4          136                 audi 100ls\n5          136                   audi fox\n6          136                 audi 100ls\n7          136                  audi 5000\n8          131                  audi 4000\n9          131        audi 5000s (diesel)\n12         164                     bmw x1\n13         164                     bmw x3\n14         164                     bmw z4\n15         209                     bmw x4\n16         209                     bmw x5\n17         209                     bmw x3\n29         156  dodge coronet custom (sw)\n47         258                  jaguar xj\n48         258                  jaguar xf\n49         326                  jaguar xk\n65         140                  mazda glc",
      "text/html": "<div>\n<style scoped>\n    .dataframe tbody tr th:only-of-type {\n        vertical-align: middle;\n    }\n\n    .dataframe tbody tr th {\n        vertical-align: top;\n    }\n\n    .dataframe thead th {\n        text-align: right;\n    }\n</style>\n<table border=\"1\" class=\"dataframe\">\n  <thead>\n    <tr style=\"text-align: right;\">\n      <th></th>\n      <th>enginesize</th>\n      <th>CarName</th>\n    </tr>\n  </thead>\n  <tbody>\n    <tr>\n      <th>0</th>\n      <td>130</td>\n      <td>alfa-romero giulia</td>\n    </tr>\n    <tr>\n      <th>1</th>\n      <td>130</td>\n      <td>alfa-romero stelvio</td>\n    </tr>\n    <tr>\n      <th>2</th>\n      <td>152</td>\n      <td>alfa-romero Quadrifoglio</td>\n    </tr>\n    <tr>\n      <th>4</th>\n      <td>136</td>\n      <td>audi 100ls</td>\n    </tr>\n    <tr>\n      <th>5</th>\n      <td>136</td>\n      <td>audi fox</td>\n    </tr>\n    <tr>\n      <th>6</th>\n      <td>136</td>\n      <td>audi 100ls</td>\n    </tr>\n    <tr>\n      <th>7</th>\n      <td>136</td>\n      <td>audi 5000</td>\n    </tr>\n    <tr>\n      <th>8</th>\n      <td>131</td>\n      <td>audi 4000</td>\n    </tr>\n    <tr>\n      <th>9</th>\n      <td>131</td>\n      <td>audi 5000s (diesel)</td>\n    </tr>\n    <tr>\n      <th>12</th>\n      <td>164</td>\n      <td>bmw x1</td>\n    </tr>\n    <tr>\n      <th>13</th>\n      <td>164</td>\n      <td>bmw x3</td>\n    </tr>\n    <tr>\n      <th>14</th>\n      <td>164</td>\n      <td>bmw z4</td>\n    </tr>\n    <tr>\n      <th>15</th>\n      <td>209</td>\n      <td>bmw x4</td>\n    </tr>\n    <tr>\n      <th>16</th>\n      <td>209</td>\n      <td>bmw x5</td>\n    </tr>\n    <tr>\n      <th>17</th>\n      <td>209</td>\n      <td>bmw x3</td>\n    </tr>\n    <tr>\n      <th>29</th>\n      <td>156</td>\n      <td>dodge coronet custom (sw)</td>\n    </tr>\n    <tr>\n      <th>47</th>\n      <td>258</td>\n      <td>jaguar xj</td>\n    </tr>\n    <tr>\n      <th>48</th>\n      <td>258</td>\n      <td>jaguar xf</td>\n    </tr>\n    <tr>\n      <th>49</th>\n      <td>326</td>\n      <td>jaguar xk</td>\n    </tr>\n    <tr>\n      <th>65</th>\n      <td>140</td>\n      <td>mazda glc</td>\n    </tr>\n  </tbody>\n</table>\n</div>"
     },
     "execution_count": 4,
     "metadata": {},
     "output_type": "execute_result"
    }
   ],
   "source": [
    "#codes here\n",
    "enginesize_filter = cars[cars['enginesize']>cars['enginesize'].mean()]\n",
    "enginesize_filter[['enginesize','CarName']].head(20)"
   ]
  },
  {
   "cell_type": "markdown",
   "id": "07f619c7",
   "metadata": {
    "pycharm": {
     "name": "#%% md\n"
    }
   },
   "source": [
    "Question 4) Add new cloumn called dimension by values of car length and width and show 10 records\n"
   ]
  },
  {
   "cell_type": "code",
   "execution_count": 5,
   "id": "8e474ad8",
   "metadata": {
    "pycharm": {
     "name": "#%%\n"
    }
   },
   "outputs": [
    {
     "data": {
      "text/plain": "   car_ID  symboling                   CarName fueltype aspiration doornumber  \\\n0       1          3        alfa-romero giulia      gas        std        two   \n1       2          3       alfa-romero stelvio      gas        std        two   \n2       3          1  alfa-romero Quadrifoglio      gas        std        two   \n3       4          2               audi 100 ls      gas        std       four   \n4       5          2                audi 100ls      gas        std       four   \n5       6          2                  audi fox      gas        std        two   \n6       7          1                audi 100ls      gas        std       four   \n7       8          1                 audi 5000      gas        std       four   \n8       9          1                 audi 4000      gas      turbo       four   \n9      10          0       audi 5000s (diesel)      gas      turbo        two   \n\n       carbody drivewheel enginelocation  wheelbase  ...  fuelsystem  \\\n0  convertible        rwd          front       88.6  ...        mpfi   \n1  convertible        rwd          front       88.6  ...        mpfi   \n2    hatchback        rwd          front       94.5  ...        mpfi   \n3        sedan        fwd          front       99.8  ...        mpfi   \n4        sedan        4wd          front       99.4  ...        mpfi   \n5        sedan        fwd          front       99.8  ...        mpfi   \n6        sedan        fwd          front      105.8  ...        mpfi   \n7        wagon        fwd          front      105.8  ...        mpfi   \n8        sedan        fwd          front      105.8  ...        mpfi   \n9    hatchback        4wd          front       99.5  ...        mpfi   \n\n   boreratio  stroke  compressionratio horsepower peakrpm  citympg highwaympg  \\\n0       3.47    2.68               9.0        111    5000       21         27   \n1       3.47    2.68               9.0        111    5000       21         27   \n2       2.68    3.47               9.0        154    5000       19         26   \n3       3.19    3.40              10.0        102    5500       24         30   \n4       3.19    3.40               8.0        115    5500       18         22   \n5       3.19    3.40               8.5        110    5500       19         25   \n6       3.19    3.40               8.5        110    5500       19         25   \n7       3.19    3.40               8.5        110    5500       19         25   \n8       3.13    3.40               8.3        140    5500       17         20   \n9       3.13    3.40               7.0        160    5500       16         22   \n\n       price  dimension  \n0  13495.000   10820.08  \n1  16500.000   10820.08  \n2  16500.000   11213.60  \n3  13950.000   11690.92  \n4  17450.000   11726.24  \n5  15250.000   11754.99  \n6  17710.000   13758.78  \n7  18920.000   13758.78  \n8  23875.000   13758.78  \n9  17859.167   12099.78  \n\n[10 rows x 27 columns]",
      "text/html": "<div>\n<style scoped>\n    .dataframe tbody tr th:only-of-type {\n        vertical-align: middle;\n    }\n\n    .dataframe tbody tr th {\n        vertical-align: top;\n    }\n\n    .dataframe thead th {\n        text-align: right;\n    }\n</style>\n<table border=\"1\" class=\"dataframe\">\n  <thead>\n    <tr style=\"text-align: right;\">\n      <th></th>\n      <th>car_ID</th>\n      <th>symboling</th>\n      <th>CarName</th>\n      <th>fueltype</th>\n      <th>aspiration</th>\n      <th>doornumber</th>\n      <th>carbody</th>\n      <th>drivewheel</th>\n      <th>enginelocation</th>\n      <th>wheelbase</th>\n      <th>...</th>\n      <th>fuelsystem</th>\n      <th>boreratio</th>\n      <th>stroke</th>\n      <th>compressionratio</th>\n      <th>horsepower</th>\n      <th>peakrpm</th>\n      <th>citympg</th>\n      <th>highwaympg</th>\n      <th>price</th>\n      <th>dimension</th>\n    </tr>\n  </thead>\n  <tbody>\n    <tr>\n      <th>0</th>\n      <td>1</td>\n      <td>3</td>\n      <td>alfa-romero giulia</td>\n      <td>gas</td>\n      <td>std</td>\n      <td>two</td>\n      <td>convertible</td>\n      <td>rwd</td>\n      <td>front</td>\n      <td>88.6</td>\n      <td>...</td>\n      <td>mpfi</td>\n      <td>3.47</td>\n      <td>2.68</td>\n      <td>9.0</td>\n      <td>111</td>\n      <td>5000</td>\n      <td>21</td>\n      <td>27</td>\n      <td>13495.000</td>\n      <td>10820.08</td>\n    </tr>\n    <tr>\n      <th>1</th>\n      <td>2</td>\n      <td>3</td>\n      <td>alfa-romero stelvio</td>\n      <td>gas</td>\n      <td>std</td>\n      <td>two</td>\n      <td>convertible</td>\n      <td>rwd</td>\n      <td>front</td>\n      <td>88.6</td>\n      <td>...</td>\n      <td>mpfi</td>\n      <td>3.47</td>\n      <td>2.68</td>\n      <td>9.0</td>\n      <td>111</td>\n      <td>5000</td>\n      <td>21</td>\n      <td>27</td>\n      <td>16500.000</td>\n      <td>10820.08</td>\n    </tr>\n    <tr>\n      <th>2</th>\n      <td>3</td>\n      <td>1</td>\n      <td>alfa-romero Quadrifoglio</td>\n      <td>gas</td>\n      <td>std</td>\n      <td>two</td>\n      <td>hatchback</td>\n      <td>rwd</td>\n      <td>front</td>\n      <td>94.5</td>\n      <td>...</td>\n      <td>mpfi</td>\n      <td>2.68</td>\n      <td>3.47</td>\n      <td>9.0</td>\n      <td>154</td>\n      <td>5000</td>\n      <td>19</td>\n      <td>26</td>\n      <td>16500.000</td>\n      <td>11213.60</td>\n    </tr>\n    <tr>\n      <th>3</th>\n      <td>4</td>\n      <td>2</td>\n      <td>audi 100 ls</td>\n      <td>gas</td>\n      <td>std</td>\n      <td>four</td>\n      <td>sedan</td>\n      <td>fwd</td>\n      <td>front</td>\n      <td>99.8</td>\n      <td>...</td>\n      <td>mpfi</td>\n      <td>3.19</td>\n      <td>3.40</td>\n      <td>10.0</td>\n      <td>102</td>\n      <td>5500</td>\n      <td>24</td>\n      <td>30</td>\n      <td>13950.000</td>\n      <td>11690.92</td>\n    </tr>\n    <tr>\n      <th>4</th>\n      <td>5</td>\n      <td>2</td>\n      <td>audi 100ls</td>\n      <td>gas</td>\n      <td>std</td>\n      <td>four</td>\n      <td>sedan</td>\n      <td>4wd</td>\n      <td>front</td>\n      <td>99.4</td>\n      <td>...</td>\n      <td>mpfi</td>\n      <td>3.19</td>\n      <td>3.40</td>\n      <td>8.0</td>\n      <td>115</td>\n      <td>5500</td>\n      <td>18</td>\n      <td>22</td>\n      <td>17450.000</td>\n      <td>11726.24</td>\n    </tr>\n    <tr>\n      <th>5</th>\n      <td>6</td>\n      <td>2</td>\n      <td>audi fox</td>\n      <td>gas</td>\n      <td>std</td>\n      <td>two</td>\n      <td>sedan</td>\n      <td>fwd</td>\n      <td>front</td>\n      <td>99.8</td>\n      <td>...</td>\n      <td>mpfi</td>\n      <td>3.19</td>\n      <td>3.40</td>\n      <td>8.5</td>\n      <td>110</td>\n      <td>5500</td>\n      <td>19</td>\n      <td>25</td>\n      <td>15250.000</td>\n      <td>11754.99</td>\n    </tr>\n    <tr>\n      <th>6</th>\n      <td>7</td>\n      <td>1</td>\n      <td>audi 100ls</td>\n      <td>gas</td>\n      <td>std</td>\n      <td>four</td>\n      <td>sedan</td>\n      <td>fwd</td>\n      <td>front</td>\n      <td>105.8</td>\n      <td>...</td>\n      <td>mpfi</td>\n      <td>3.19</td>\n      <td>3.40</td>\n      <td>8.5</td>\n      <td>110</td>\n      <td>5500</td>\n      <td>19</td>\n      <td>25</td>\n      <td>17710.000</td>\n      <td>13758.78</td>\n    </tr>\n    <tr>\n      <th>7</th>\n      <td>8</td>\n      <td>1</td>\n      <td>audi 5000</td>\n      <td>gas</td>\n      <td>std</td>\n      <td>four</td>\n      <td>wagon</td>\n      <td>fwd</td>\n      <td>front</td>\n      <td>105.8</td>\n      <td>...</td>\n      <td>mpfi</td>\n      <td>3.19</td>\n      <td>3.40</td>\n      <td>8.5</td>\n      <td>110</td>\n      <td>5500</td>\n      <td>19</td>\n      <td>25</td>\n      <td>18920.000</td>\n      <td>13758.78</td>\n    </tr>\n    <tr>\n      <th>8</th>\n      <td>9</td>\n      <td>1</td>\n      <td>audi 4000</td>\n      <td>gas</td>\n      <td>turbo</td>\n      <td>four</td>\n      <td>sedan</td>\n      <td>fwd</td>\n      <td>front</td>\n      <td>105.8</td>\n      <td>...</td>\n      <td>mpfi</td>\n      <td>3.13</td>\n      <td>3.40</td>\n      <td>8.3</td>\n      <td>140</td>\n      <td>5500</td>\n      <td>17</td>\n      <td>20</td>\n      <td>23875.000</td>\n      <td>13758.78</td>\n    </tr>\n    <tr>\n      <th>9</th>\n      <td>10</td>\n      <td>0</td>\n      <td>audi 5000s (diesel)</td>\n      <td>gas</td>\n      <td>turbo</td>\n      <td>two</td>\n      <td>hatchback</td>\n      <td>4wd</td>\n      <td>front</td>\n      <td>99.5</td>\n      <td>...</td>\n      <td>mpfi</td>\n      <td>3.13</td>\n      <td>3.40</td>\n      <td>7.0</td>\n      <td>160</td>\n      <td>5500</td>\n      <td>16</td>\n      <td>22</td>\n      <td>17859.167</td>\n      <td>12099.78</td>\n    </tr>\n  </tbody>\n</table>\n<p>10 rows × 27 columns</p>\n</div>"
     },
     "execution_count": 5,
     "metadata": {},
     "output_type": "execute_result"
    }
   ],
   "source": [
    "#codes here\n",
    "cars['dimension']= (cars['carlength']*cars['carwidth'])     # Adding dimension column with multiplying length and width\n",
    "cars.head(10)"
   ]
  },
  {
   "cell_type": "markdown",
   "id": "1cea1d85",
   "metadata": {
    "pycharm": {
     "name": "#%% md\n"
    }
   },
   "source": [
    "Question 5) Please read the \"Hotels1.csv\" and \"Hotels2.csv\" files as a DataFrame object. Print the length and the first 5 tuples of them.\n"
   ]
  },
  {
   "cell_type": "code",
   "execution_count": 6,
   "id": "737b48a5",
   "metadata": {
    "pycharm": {
     "name": "#%%\n"
    }
   },
   "outputs": [
    {
     "name": "stdout",
     "output_type": "stream",
     "text": [
      "Lenght of the hotels1 DataFrame: 35912 rows x 5 columns\n"
     ]
    },
    {
     "data": {
      "text/plain": "            hotelname postalCode province  reviews.rating  \\\n0  Hotel Russo Palace      30126       GA             4.0   \n1  Hotel Russo Palace      30126       GA             5.0   \n2  Hotel Russo Palace      30126       GA             5.0   \n3  Hotel Russo Palace      30126       GA             5.0   \n4  Hotel Russo Palace      30126       GA             5.0   \n\n                                        reviews.text  \n0  Pleasant 10 min walk along the sea front to th...  \n1  Really lovely hotel. Stayed on the very top fl...  \n2  Ett mycket bra hotell. Det som drog ner betyge...  \n3  We stayed here for four nights in October. The...  \n4  We stayed here for four nights in October. The...  ",
      "text/html": "<div>\n<style scoped>\n    .dataframe tbody tr th:only-of-type {\n        vertical-align: middle;\n    }\n\n    .dataframe tbody tr th {\n        vertical-align: top;\n    }\n\n    .dataframe thead th {\n        text-align: right;\n    }\n</style>\n<table border=\"1\" class=\"dataframe\">\n  <thead>\n    <tr style=\"text-align: right;\">\n      <th></th>\n      <th>hotelname</th>\n      <th>postalCode</th>\n      <th>province</th>\n      <th>reviews.rating</th>\n      <th>reviews.text</th>\n    </tr>\n  </thead>\n  <tbody>\n    <tr>\n      <th>0</th>\n      <td>Hotel Russo Palace</td>\n      <td>30126</td>\n      <td>GA</td>\n      <td>4.0</td>\n      <td>Pleasant 10 min walk along the sea front to th...</td>\n    </tr>\n    <tr>\n      <th>1</th>\n      <td>Hotel Russo Palace</td>\n      <td>30126</td>\n      <td>GA</td>\n      <td>5.0</td>\n      <td>Really lovely hotel. Stayed on the very top fl...</td>\n    </tr>\n    <tr>\n      <th>2</th>\n      <td>Hotel Russo Palace</td>\n      <td>30126</td>\n      <td>GA</td>\n      <td>5.0</td>\n      <td>Ett mycket bra hotell. Det som drog ner betyge...</td>\n    </tr>\n    <tr>\n      <th>3</th>\n      <td>Hotel Russo Palace</td>\n      <td>30126</td>\n      <td>GA</td>\n      <td>5.0</td>\n      <td>We stayed here for four nights in October. The...</td>\n    </tr>\n    <tr>\n      <th>4</th>\n      <td>Hotel Russo Palace</td>\n      <td>30126</td>\n      <td>GA</td>\n      <td>5.0</td>\n      <td>We stayed here for four nights in October. The...</td>\n    </tr>\n  </tbody>\n</table>\n</div>"
     },
     "execution_count": 6,
     "metadata": {},
     "output_type": "execute_result"
    }
   ],
   "source": [
    "#codes here\n",
    "hotel = pd.read_csv(\"Hotels1.csv\")      # Reading hotels1.csv file with pandas\n",
    "hotels1 = pd.DataFrame(hotel)\n",
    "print(\"Lenght of the hotels1 DataFrame:\",hotels1.shape[0], \"rows x\",hotels1.shape[1],\"columns\")\n",
    "hotels1.head()"
   ]
  },
  {
   "cell_type": "code",
   "execution_count": 7,
   "id": "6d6b2fd5",
   "metadata": {
    "pycharm": {
     "name": "#%%\n"
    }
   },
   "outputs": [
    {
     "name": "stdout",
     "output_type": "stream",
     "text": [
      "Lenght of the hotels2 DataFrame: 35912 rows x 15 columns\n"
     ]
    },
    {
     "data": {
      "text/plain": "                  address categories      city country   latitude  longitude  \\\n0  Riviera San Nicol 11/a     Hotels  Mableton      US  45.421611  12.376187   \n1  Riviera San Nicol 11/a     Hotels  Mableton      US  45.421611  12.376187   \n2  Riviera San Nicol 11/a     Hotels  Mableton      US  45.421611  12.376187   \n3  Riviera San Nicol 11/a     Hotels  Mableton      US  45.421611  12.376187   \n4  Riviera San Nicol 11/a     Hotels  Mableton      US  45.421611  12.376187   \n\n                 name          reviews.date     reviews.dateAdded  \\\n0  Hotel Russo Palace  2013-09-22T00:00:00Z  2016-10-24T00:00:25Z   \n1  Hotel Russo Palace  2015-04-03T00:00:00Z  2016-10-24T00:00:25Z   \n2  Hotel Russo Palace  2014-05-13T00:00:00Z  2016-10-24T00:00:25Z   \n3  Hotel Russo Palace  2013-10-27T00:00:00Z  2016-10-24T00:00:25Z   \n4  Hotel Russo Palace  2015-03-05T00:00:00Z  2016-10-24T00:00:25Z   \n\n   reviews.doRecommend  reviews.id                       reviews.title  \\\n0                  NaN         NaN  Good location away from the crouds   \n1                  NaN         NaN      Great hotel with Jacuzzi bath!   \n2                  NaN         NaN                         Lugnt l��ge   \n3                  NaN         NaN          Good location on the Lido.   \n4                  NaN         NaN              ������ ���������������   \n\n  reviews.userCity reviews.username reviews.userProvince  \n0              NaN      Russ (kent)                  NaN  \n1              NaN       A Traveler                  NaN  \n2              NaN             Maud                  NaN  \n3              NaN            Julie                  NaN  \n4              NaN         sungchul                  NaN  ",
      "text/html": "<div>\n<style scoped>\n    .dataframe tbody tr th:only-of-type {\n        vertical-align: middle;\n    }\n\n    .dataframe tbody tr th {\n        vertical-align: top;\n    }\n\n    .dataframe thead th {\n        text-align: right;\n    }\n</style>\n<table border=\"1\" class=\"dataframe\">\n  <thead>\n    <tr style=\"text-align: right;\">\n      <th></th>\n      <th>address</th>\n      <th>categories</th>\n      <th>city</th>\n      <th>country</th>\n      <th>latitude</th>\n      <th>longitude</th>\n      <th>name</th>\n      <th>reviews.date</th>\n      <th>reviews.dateAdded</th>\n      <th>reviews.doRecommend</th>\n      <th>reviews.id</th>\n      <th>reviews.title</th>\n      <th>reviews.userCity</th>\n      <th>reviews.username</th>\n      <th>reviews.userProvince</th>\n    </tr>\n  </thead>\n  <tbody>\n    <tr>\n      <th>0</th>\n      <td>Riviera San Nicol 11/a</td>\n      <td>Hotels</td>\n      <td>Mableton</td>\n      <td>US</td>\n      <td>45.421611</td>\n      <td>12.376187</td>\n      <td>Hotel Russo Palace</td>\n      <td>2013-09-22T00:00:00Z</td>\n      <td>2016-10-24T00:00:25Z</td>\n      <td>NaN</td>\n      <td>NaN</td>\n      <td>Good location away from the crouds</td>\n      <td>NaN</td>\n      <td>Russ (kent)</td>\n      <td>NaN</td>\n    </tr>\n    <tr>\n      <th>1</th>\n      <td>Riviera San Nicol 11/a</td>\n      <td>Hotels</td>\n      <td>Mableton</td>\n      <td>US</td>\n      <td>45.421611</td>\n      <td>12.376187</td>\n      <td>Hotel Russo Palace</td>\n      <td>2015-04-03T00:00:00Z</td>\n      <td>2016-10-24T00:00:25Z</td>\n      <td>NaN</td>\n      <td>NaN</td>\n      <td>Great hotel with Jacuzzi bath!</td>\n      <td>NaN</td>\n      <td>A Traveler</td>\n      <td>NaN</td>\n    </tr>\n    <tr>\n      <th>2</th>\n      <td>Riviera San Nicol 11/a</td>\n      <td>Hotels</td>\n      <td>Mableton</td>\n      <td>US</td>\n      <td>45.421611</td>\n      <td>12.376187</td>\n      <td>Hotel Russo Palace</td>\n      <td>2014-05-13T00:00:00Z</td>\n      <td>2016-10-24T00:00:25Z</td>\n      <td>NaN</td>\n      <td>NaN</td>\n      <td>Lugnt l��ge</td>\n      <td>NaN</td>\n      <td>Maud</td>\n      <td>NaN</td>\n    </tr>\n    <tr>\n      <th>3</th>\n      <td>Riviera San Nicol 11/a</td>\n      <td>Hotels</td>\n      <td>Mableton</td>\n      <td>US</td>\n      <td>45.421611</td>\n      <td>12.376187</td>\n      <td>Hotel Russo Palace</td>\n      <td>2013-10-27T00:00:00Z</td>\n      <td>2016-10-24T00:00:25Z</td>\n      <td>NaN</td>\n      <td>NaN</td>\n      <td>Good location on the Lido.</td>\n      <td>NaN</td>\n      <td>Julie</td>\n      <td>NaN</td>\n    </tr>\n    <tr>\n      <th>4</th>\n      <td>Riviera San Nicol 11/a</td>\n      <td>Hotels</td>\n      <td>Mableton</td>\n      <td>US</td>\n      <td>45.421611</td>\n      <td>12.376187</td>\n      <td>Hotel Russo Palace</td>\n      <td>2015-03-05T00:00:00Z</td>\n      <td>2016-10-24T00:00:25Z</td>\n      <td>NaN</td>\n      <td>NaN</td>\n      <td>������ ���������������</td>\n      <td>NaN</td>\n      <td>sungchul</td>\n      <td>NaN</td>\n    </tr>\n  </tbody>\n</table>\n</div>"
     },
     "execution_count": 7,
     "metadata": {},
     "output_type": "execute_result"
    }
   ],
   "source": [
    "hotel2 = pd.read_csv(\"Hotels2.csv\")     # Reading hotels2.csv file with pandas\n",
    "hotels2 = pd.DataFrame(hotel2)\n",
    "print(\"Lenght of the hotels2 DataFrame:\",hotels2.shape[0], \"rows x\",hotels2.shape[1],\"columns\")\n",
    "hotels2.head()"
   ]
  },
  {
   "cell_type": "markdown",
   "id": "499be357",
   "metadata": {
    "pycharm": {
     "name": "#%% md\n"
    }
   },
   "source": [
    "Question 6)Combine information of these two dataset into a single dataframe without any redundant column and display 10 records of the new dataframe. Be careful combining these two datasets  the new dataframe has a redundant column, find that column and not include"
   ]
  },
  {
   "cell_type": "code",
   "execution_count": 8,
   "id": "b6f5b6ab",
   "metadata": {
    "pycharm": {
     "name": "#%%\n"
    }
   },
   "outputs": [
    {
     "data": {
      "text/plain": "            hotelname postalCode province  reviews.rating  \\\n0  Hotel Russo Palace      30126       GA             4.0   \n1  Hotel Russo Palace      30126       GA             5.0   \n2  Hotel Russo Palace      30126       GA             5.0   \n3  Hotel Russo Palace      30126       GA             5.0   \n4  Hotel Russo Palace      30126       GA             5.0   \n5  Hotel Russo Palace      30126       GA             5.0   \n6  Hotel Russo Palace      30126       GA             4.0   \n7  Hotel Russo Palace      30126       GA             4.0   \n8  Hotel Russo Palace      30126       GA             3.0   \n9  Hotel Russo Palace      30126       GA             4.0   \n\n                                        reviews.text                 address  \\\n0  Pleasant 10 min walk along the sea front to th...  Riviera San Nicol 11/a   \n1  Really lovely hotel. Stayed on the very top fl...  Riviera San Nicol 11/a   \n2  Ett mycket bra hotell. Det som drog ner betyge...  Riviera San Nicol 11/a   \n3  We stayed here for four nights in October. The...  Riviera San Nicol 11/a   \n4  We stayed here for four nights in October. The...  Riviera San Nicol 11/a   \n5  We loved staying on the island of Lido! You ne...  Riviera San Nicol 11/a   \n6  Lovely view out onto the lagoon. Excellent vie...  Riviera San Nicol 11/a   \n7  ottimo soggiorno e ottima sistemazione nei gio...  Riviera San Nicol 11/a   \n8  Gnstiger Ausgangspunkt fr Venedig Besuche. Ruh...  Riviera San Nicol 11/a   \n9  Lidoen er perfekt til et par dages ro og afsla...  Riviera San Nicol 11/a   \n\n  categories      city country   latitude  longitude          reviews.date  \\\n0     Hotels  Mableton      US  45.421611  12.376187  2013-09-22T00:00:00Z   \n1     Hotels  Mableton      US  45.421611  12.376187  2015-04-03T00:00:00Z   \n2     Hotels  Mableton      US  45.421611  12.376187  2014-05-13T00:00:00Z   \n3     Hotels  Mableton      US  45.421611  12.376187  2013-10-27T00:00:00Z   \n4     Hotels  Mableton      US  45.421611  12.376187  2015-03-05T00:00:00Z   \n5     Hotels  Mableton      US  45.421611  12.376187  2015-04-05T00:00:00Z   \n6     Hotels  Mableton      US  45.421611  12.376187  2014-06-10T00:00:00Z   \n7     Hotels  Mableton      US  45.421611  12.376187  2015-05-14T00:00:00Z   \n8     Hotels  Mableton      US  45.421611  12.376187  2015-09-14T00:00:00Z   \n9     Hotels  Mableton      US  45.421611  12.376187  2015-05-16T00:00:00Z   \n\n      reviews.dateAdded  reviews.doRecommend  reviews.id  \\\n0  2016-10-24T00:00:25Z                  NaN         NaN   \n1  2016-10-24T00:00:25Z                  NaN         NaN   \n2  2016-10-24T00:00:25Z                  NaN         NaN   \n3  2016-10-24T00:00:25Z                  NaN         NaN   \n4  2016-10-24T00:00:25Z                  NaN         NaN   \n5  2016-10-24T00:00:25Z                  NaN         NaN   \n6  2016-10-24T00:00:25Z                  NaN         NaN   \n7  2016-10-24T00:00:25Z                  NaN         NaN   \n8  2016-10-24T00:00:25Z                  NaN         NaN   \n9  2016-10-24T00:00:25Z                  NaN         NaN   \n\n                                      reviews.title reviews.userCity  \\\n0                Good location away from the crouds              NaN   \n1                    Great hotel with Jacuzzi bath!              NaN   \n2                                       Lugnt l��ge              NaN   \n3                        Good location on the Lido.              NaN   \n4                            ������ ���������������              NaN   \n5                                   Very nice hotel              NaN   \n6  Lovely view out onto the lagoon. Excellent view.              NaN   \n7  Lovely view out onto the lagoon. Excellent view.              NaN   \n8                                    G��nstige Lage              NaN   \n9                                       Ro og hygge              NaN   \n\n  reviews.username reviews.userProvince  \n0      Russ (kent)                  NaN  \n1       A Traveler                  NaN  \n2             Maud                  NaN  \n3            Julie                  NaN  \n4         sungchul                  NaN  \n5       A Traveler                  NaN  \n6       A Traveler                  NaN  \n7       A Traveler                  NaN  \n8     Doppeldecker                  NaN  \n9       A Traveler                  NaN  ",
      "text/html": "<div>\n<style scoped>\n    .dataframe tbody tr th:only-of-type {\n        vertical-align: middle;\n    }\n\n    .dataframe tbody tr th {\n        vertical-align: top;\n    }\n\n    .dataframe thead th {\n        text-align: right;\n    }\n</style>\n<table border=\"1\" class=\"dataframe\">\n  <thead>\n    <tr style=\"text-align: right;\">\n      <th></th>\n      <th>hotelname</th>\n      <th>postalCode</th>\n      <th>province</th>\n      <th>reviews.rating</th>\n      <th>reviews.text</th>\n      <th>address</th>\n      <th>categories</th>\n      <th>city</th>\n      <th>country</th>\n      <th>latitude</th>\n      <th>longitude</th>\n      <th>reviews.date</th>\n      <th>reviews.dateAdded</th>\n      <th>reviews.doRecommend</th>\n      <th>reviews.id</th>\n      <th>reviews.title</th>\n      <th>reviews.userCity</th>\n      <th>reviews.username</th>\n      <th>reviews.userProvince</th>\n    </tr>\n  </thead>\n  <tbody>\n    <tr>\n      <th>0</th>\n      <td>Hotel Russo Palace</td>\n      <td>30126</td>\n      <td>GA</td>\n      <td>4.0</td>\n      <td>Pleasant 10 min walk along the sea front to th...</td>\n      <td>Riviera San Nicol 11/a</td>\n      <td>Hotels</td>\n      <td>Mableton</td>\n      <td>US</td>\n      <td>45.421611</td>\n      <td>12.376187</td>\n      <td>2013-09-22T00:00:00Z</td>\n      <td>2016-10-24T00:00:25Z</td>\n      <td>NaN</td>\n      <td>NaN</td>\n      <td>Good location away from the crouds</td>\n      <td>NaN</td>\n      <td>Russ (kent)</td>\n      <td>NaN</td>\n    </tr>\n    <tr>\n      <th>1</th>\n      <td>Hotel Russo Palace</td>\n      <td>30126</td>\n      <td>GA</td>\n      <td>5.0</td>\n      <td>Really lovely hotel. Stayed on the very top fl...</td>\n      <td>Riviera San Nicol 11/a</td>\n      <td>Hotels</td>\n      <td>Mableton</td>\n      <td>US</td>\n      <td>45.421611</td>\n      <td>12.376187</td>\n      <td>2015-04-03T00:00:00Z</td>\n      <td>2016-10-24T00:00:25Z</td>\n      <td>NaN</td>\n      <td>NaN</td>\n      <td>Great hotel with Jacuzzi bath!</td>\n      <td>NaN</td>\n      <td>A Traveler</td>\n      <td>NaN</td>\n    </tr>\n    <tr>\n      <th>2</th>\n      <td>Hotel Russo Palace</td>\n      <td>30126</td>\n      <td>GA</td>\n      <td>5.0</td>\n      <td>Ett mycket bra hotell. Det som drog ner betyge...</td>\n      <td>Riviera San Nicol 11/a</td>\n      <td>Hotels</td>\n      <td>Mableton</td>\n      <td>US</td>\n      <td>45.421611</td>\n      <td>12.376187</td>\n      <td>2014-05-13T00:00:00Z</td>\n      <td>2016-10-24T00:00:25Z</td>\n      <td>NaN</td>\n      <td>NaN</td>\n      <td>Lugnt l��ge</td>\n      <td>NaN</td>\n      <td>Maud</td>\n      <td>NaN</td>\n    </tr>\n    <tr>\n      <th>3</th>\n      <td>Hotel Russo Palace</td>\n      <td>30126</td>\n      <td>GA</td>\n      <td>5.0</td>\n      <td>We stayed here for four nights in October. The...</td>\n      <td>Riviera San Nicol 11/a</td>\n      <td>Hotels</td>\n      <td>Mableton</td>\n      <td>US</td>\n      <td>45.421611</td>\n      <td>12.376187</td>\n      <td>2013-10-27T00:00:00Z</td>\n      <td>2016-10-24T00:00:25Z</td>\n      <td>NaN</td>\n      <td>NaN</td>\n      <td>Good location on the Lido.</td>\n      <td>NaN</td>\n      <td>Julie</td>\n      <td>NaN</td>\n    </tr>\n    <tr>\n      <th>4</th>\n      <td>Hotel Russo Palace</td>\n      <td>30126</td>\n      <td>GA</td>\n      <td>5.0</td>\n      <td>We stayed here for four nights in October. The...</td>\n      <td>Riviera San Nicol 11/a</td>\n      <td>Hotels</td>\n      <td>Mableton</td>\n      <td>US</td>\n      <td>45.421611</td>\n      <td>12.376187</td>\n      <td>2015-03-05T00:00:00Z</td>\n      <td>2016-10-24T00:00:25Z</td>\n      <td>NaN</td>\n      <td>NaN</td>\n      <td>������ ���������������</td>\n      <td>NaN</td>\n      <td>sungchul</td>\n      <td>NaN</td>\n    </tr>\n    <tr>\n      <th>5</th>\n      <td>Hotel Russo Palace</td>\n      <td>30126</td>\n      <td>GA</td>\n      <td>5.0</td>\n      <td>We loved staying on the island of Lido! You ne...</td>\n      <td>Riviera San Nicol 11/a</td>\n      <td>Hotels</td>\n      <td>Mableton</td>\n      <td>US</td>\n      <td>45.421611</td>\n      <td>12.376187</td>\n      <td>2015-04-05T00:00:00Z</td>\n      <td>2016-10-24T00:00:25Z</td>\n      <td>NaN</td>\n      <td>NaN</td>\n      <td>Very nice hotel</td>\n      <td>NaN</td>\n      <td>A Traveler</td>\n      <td>NaN</td>\n    </tr>\n    <tr>\n      <th>6</th>\n      <td>Hotel Russo Palace</td>\n      <td>30126</td>\n      <td>GA</td>\n      <td>4.0</td>\n      <td>Lovely view out onto the lagoon. Excellent vie...</td>\n      <td>Riviera San Nicol 11/a</td>\n      <td>Hotels</td>\n      <td>Mableton</td>\n      <td>US</td>\n      <td>45.421611</td>\n      <td>12.376187</td>\n      <td>2014-06-10T00:00:00Z</td>\n      <td>2016-10-24T00:00:25Z</td>\n      <td>NaN</td>\n      <td>NaN</td>\n      <td>Lovely view out onto the lagoon. Excellent view.</td>\n      <td>NaN</td>\n      <td>A Traveler</td>\n      <td>NaN</td>\n    </tr>\n    <tr>\n      <th>7</th>\n      <td>Hotel Russo Palace</td>\n      <td>30126</td>\n      <td>GA</td>\n      <td>4.0</td>\n      <td>ottimo soggiorno e ottima sistemazione nei gio...</td>\n      <td>Riviera San Nicol 11/a</td>\n      <td>Hotels</td>\n      <td>Mableton</td>\n      <td>US</td>\n      <td>45.421611</td>\n      <td>12.376187</td>\n      <td>2015-05-14T00:00:00Z</td>\n      <td>2016-10-24T00:00:25Z</td>\n      <td>NaN</td>\n      <td>NaN</td>\n      <td>Lovely view out onto the lagoon. Excellent view.</td>\n      <td>NaN</td>\n      <td>A Traveler</td>\n      <td>NaN</td>\n    </tr>\n    <tr>\n      <th>8</th>\n      <td>Hotel Russo Palace</td>\n      <td>30126</td>\n      <td>GA</td>\n      <td>3.0</td>\n      <td>Gnstiger Ausgangspunkt fr Venedig Besuche. Ruh...</td>\n      <td>Riviera San Nicol 11/a</td>\n      <td>Hotels</td>\n      <td>Mableton</td>\n      <td>US</td>\n      <td>45.421611</td>\n      <td>12.376187</td>\n      <td>2015-09-14T00:00:00Z</td>\n      <td>2016-10-24T00:00:25Z</td>\n      <td>NaN</td>\n      <td>NaN</td>\n      <td>G��nstige Lage</td>\n      <td>NaN</td>\n      <td>Doppeldecker</td>\n      <td>NaN</td>\n    </tr>\n    <tr>\n      <th>9</th>\n      <td>Hotel Russo Palace</td>\n      <td>30126</td>\n      <td>GA</td>\n      <td>4.0</td>\n      <td>Lidoen er perfekt til et par dages ro og afsla...</td>\n      <td>Riviera San Nicol 11/a</td>\n      <td>Hotels</td>\n      <td>Mableton</td>\n      <td>US</td>\n      <td>45.421611</td>\n      <td>12.376187</td>\n      <td>2015-05-16T00:00:00Z</td>\n      <td>2016-10-24T00:00:25Z</td>\n      <td>NaN</td>\n      <td>NaN</td>\n      <td>Ro og hygge</td>\n      <td>NaN</td>\n      <td>A Traveler</td>\n      <td>NaN</td>\n    </tr>\n  </tbody>\n</table>\n</div>"
     },
     "execution_count": 8,
     "metadata": {},
     "output_type": "execute_result"
    }
   ],
   "source": [
    "#codes here\n",
    "hotels = hotels1.merge(hotels2,left_index=True, right_index=True).drop('name',axis=1)    # Combining two dataset with merge and, drop the redundant column\n",
    "hotels.head(10)"
   ]
  },
  {
   "cell_type": "markdown",
   "id": "f55e8331",
   "metadata": {
    "pycharm": {
     "name": "#%% md\n"
    }
   },
   "source": [
    "Question 7)Display reviews rating mean by province"
   ]
  },
  {
   "cell_type": "code",
   "execution_count": 9,
   "id": "60c6b521",
   "metadata": {
    "pycharm": {
     "name": "#%%\n"
    }
   },
   "outputs": [
    {
     "data": {
      "text/plain": "        province  reviews.rating\n0             AK        4.586957\n1             AL        4.040872\n2             AR        3.955056\n3             AZ        3.766784\n4      Andyville        3.833333\n..           ...             ...\n282        Wmsbg        4.000000\n283     Woodbury        4.016949\n284  Yankee Hill             NaN\n285     Yarmouth        3.734940\n286   Young Ward             NaN\n\n[287 rows x 2 columns]",
      "text/html": "<div>\n<style scoped>\n    .dataframe tbody tr th:only-of-type {\n        vertical-align: middle;\n    }\n\n    .dataframe tbody tr th {\n        vertical-align: top;\n    }\n\n    .dataframe thead th {\n        text-align: right;\n    }\n</style>\n<table border=\"1\" class=\"dataframe\">\n  <thead>\n    <tr style=\"text-align: right;\">\n      <th></th>\n      <th>province</th>\n      <th>reviews.rating</th>\n    </tr>\n  </thead>\n  <tbody>\n    <tr>\n      <th>0</th>\n      <td>AK</td>\n      <td>4.586957</td>\n    </tr>\n    <tr>\n      <th>1</th>\n      <td>AL</td>\n      <td>4.040872</td>\n    </tr>\n    <tr>\n      <th>2</th>\n      <td>AR</td>\n      <td>3.955056</td>\n    </tr>\n    <tr>\n      <th>3</th>\n      <td>AZ</td>\n      <td>3.766784</td>\n    </tr>\n    <tr>\n      <th>4</th>\n      <td>Andyville</td>\n      <td>3.833333</td>\n    </tr>\n    <tr>\n      <th>...</th>\n      <td>...</td>\n      <td>...</td>\n    </tr>\n    <tr>\n      <th>282</th>\n      <td>Wmsbg</td>\n      <td>4.000000</td>\n    </tr>\n    <tr>\n      <th>283</th>\n      <td>Woodbury</td>\n      <td>4.016949</td>\n    </tr>\n    <tr>\n      <th>284</th>\n      <td>Yankee Hill</td>\n      <td>NaN</td>\n    </tr>\n    <tr>\n      <th>285</th>\n      <td>Yarmouth</td>\n      <td>3.734940</td>\n    </tr>\n    <tr>\n      <th>286</th>\n      <td>Young Ward</td>\n      <td>NaN</td>\n    </tr>\n  </tbody>\n</table>\n<p>287 rows × 2 columns</p>\n</div>"
     },
     "execution_count": 9,
     "metadata": {},
     "output_type": "execute_result"
    }
   ],
   "source": [
    "#codes here\n",
    "reviews_rating = hotels.groupby([\"province\"],as_index = False)[\"reviews.rating\"].mean()\n",
    "pd.DataFrame(reviews_rating)"
   ]
  },
  {
   "cell_type": "markdown",
   "id": "22fb1852",
   "metadata": {
    "pycharm": {
     "name": "#%% md\n"
    }
   },
   "source": [
    "Question 8) Write records stored in a DataFrame that is given to you as image to a SQLite database and read all data from SQL via a SQL query\n"
   ]
  },
  {
   "attachments": {
    "assignment1_courses.PNG": {
     "image/png": "[encoded data removed]"
    }
   },
   "cell_type": "markdown",
   "id": "7cd53fb8",
   "metadata": {
    "pycharm": {
     "name": "#%% md\n"
    }
   },
   "source": [
    "![assignment1_courses.PNG](attachment:assignment1_courses.PNG)"
   ]
  },
  {
   "cell_type": "code",
   "execution_count": 10,
   "id": "f3ba74d6",
   "metadata": {
    "pycharm": {
     "name": "#%%\n"
    }
   },
   "outputs": [
    {
     "data": {
      "text/plain": "   index course_codes                                  course_name        day  \\\n0      0       AIN101                             Freshman Seminar     Monday   \n1      1       AIN212                     Elements of Data Science    Tuesday   \n2      2       AIN212                     Elements of Data Science     Monday   \n3      3       AIN311              Foundations of Machine Learning  Wednesday   \n4      4       AIN440  Introduction to Natural Language Processing    Tuesday   \n5      5       BBM201                              Data Structures     Friday   \n6      6       BBM301                        Programming Languages   Thursday   \n7      7       BBM301                        Programming Languages   Thursday   \n\n   number_of_students  \n0                  80  \n1                  35  \n2                  35  \n3                  40  \n4                  25  \n5                  43  \n6                  70  \n7                  70  ",
      "text/html": "<div>\n<style scoped>\n    .dataframe tbody tr th:only-of-type {\n        vertical-align: middle;\n    }\n\n    .dataframe tbody tr th {\n        vertical-align: top;\n    }\n\n    .dataframe thead th {\n        text-align: right;\n    }\n</style>\n<table border=\"1\" class=\"dataframe\">\n  <thead>\n    <tr style=\"text-align: right;\">\n      <th></th>\n      <th>index</th>\n      <th>course_codes</th>\n      <th>course_name</th>\n      <th>day</th>\n      <th>number_of_students</th>\n    </tr>\n  </thead>\n  <tbody>\n    <tr>\n      <th>0</th>\n      <td>0</td>\n      <td>AIN101</td>\n      <td>Freshman Seminar</td>\n      <td>Monday</td>\n      <td>80</td>\n    </tr>\n    <tr>\n      <th>1</th>\n      <td>1</td>\n      <td>AIN212</td>\n      <td>Elements of Data Science</td>\n      <td>Tuesday</td>\n      <td>35</td>\n    </tr>\n    <tr>\n      <th>2</th>\n      <td>2</td>\n      <td>AIN212</td>\n      <td>Elements of Data Science</td>\n      <td>Monday</td>\n      <td>35</td>\n    </tr>\n    <tr>\n      <th>3</th>\n      <td>3</td>\n      <td>AIN311</td>\n      <td>Foundations of Machine Learning</td>\n      <td>Wednesday</td>\n      <td>40</td>\n    </tr>\n    <tr>\n      <th>4</th>\n      <td>4</td>\n      <td>AIN440</td>\n      <td>Introduction to Natural Language Processing</td>\n      <td>Tuesday</td>\n      <td>25</td>\n    </tr>\n    <tr>\n      <th>5</th>\n      <td>5</td>\n      <td>BBM201</td>\n      <td>Data Structures</td>\n      <td>Friday</td>\n      <td>43</td>\n    </tr>\n    <tr>\n      <th>6</th>\n      <td>6</td>\n      <td>BBM301</td>\n      <td>Programming Languages</td>\n      <td>Thursday</td>\n      <td>70</td>\n    </tr>\n    <tr>\n      <th>7</th>\n      <td>7</td>\n      <td>BBM301</td>\n      <td>Programming Languages</td>\n      <td>Thursday</td>\n      <td>70</td>\n    </tr>\n  </tbody>\n</table>\n</div>"
     },
     "execution_count": 10,
     "metadata": {},
     "output_type": "execute_result"
    }
   ],
   "source": [
    "#codes here\n",
    "courses = {'index': [0,1,2,3,4,5,6,7], 'course_codes': ['AIN101', 'AIN212', 'AIN212', 'AIN311','AIN440','BBM201','BBM301','BBM301'],\n",
    "           'course_name': ['Freshman Seminar', 'Elements of Data Science', 'Elements of Data Science', 'Foundations of Machine Learning','Introduction to Natural Language Processing','Data Structures','Programming Languages','Programming Languages'],\n",
    "           'day': ['Monday','Tuesday','Monday','Wednesday','Tuesday','Friday','Thursday','Thursday'],\n",
    "           'number_of_students': [80, 35, 35, 40,25,43,70,70]}\n",
    "courses = pd.DataFrame(courses)  \n",
    "conn = connect(':memory:')                                    # Create the database in RAM\n",
    "conn =sql.connect('courses.db')                               # Read in SQLite database\n",
    "courses.to_sql('courses',conn, if_exists=\"replace\", index=False)\n",
    "all_courses = pd.read_sql('SELECT * FROM courses', conn)\n",
    "all_courses"
   ]
  },
  {
   "cell_type": "markdown",
   "id": "ddd553cb",
   "metadata": {
    "pycharm": {
     "name": "#%% md\n"
    }
   },
   "source": [
    "Question 9) Filter courses that are hold on Tuesday and number of students are higher than 30 by using a SQL query"
   ]
  },
  {
   "cell_type": "code",
   "execution_count": 11,
   "id": "4d4aa18e",
   "metadata": {
    "pycharm": {
     "name": "#%%\n"
    }
   },
   "outputs": [
    {
     "data": {
      "text/plain": "   index course_codes               course_name      day  number_of_students\n0      1       AIN212  Elements of Data Science  Tuesday                  35",
      "text/html": "<div>\n<style scoped>\n    .dataframe tbody tr th:only-of-type {\n        vertical-align: middle;\n    }\n\n    .dataframe tbody tr th {\n        vertical-align: top;\n    }\n\n    .dataframe thead th {\n        text-align: right;\n    }\n</style>\n<table border=\"1\" class=\"dataframe\">\n  <thead>\n    <tr style=\"text-align: right;\">\n      <th></th>\n      <th>index</th>\n      <th>course_codes</th>\n      <th>course_name</th>\n      <th>day</th>\n      <th>number_of_students</th>\n    </tr>\n  </thead>\n  <tbody>\n    <tr>\n      <th>0</th>\n      <td>1</td>\n      <td>AIN212</td>\n      <td>Elements of Data Science</td>\n      <td>Tuesday</td>\n      <td>35</td>\n    </tr>\n  </tbody>\n</table>\n</div>"
     },
     "execution_count": 11,
     "metadata": {},
     "output_type": "execute_result"
    }
   ],
   "source": [
    "#codes here\n",
    "filtered_courses = pd.read_sql(\"SELECT * FROM courses WHERE day == 'Tuesday' AND number_of_students> 30\",conn)\n",
    "filtered_courses"
   ]
  },
  {
   "cell_type": "markdown",
   "id": "46789598",
   "metadata": {
    "pycharm": {
     "name": "#%% md\n"
    }
   },
   "source": [
    "Question 10) Show the total number of students by using a SQL query"
   ]
  },
  {
   "cell_type": "code",
   "execution_count": 12,
   "id": "a6df5ad3",
   "metadata": {
    "pycharm": {
     "name": "#%%\n"
    }
   },
   "outputs": [
    {
     "data": {
      "text/plain": "   SUM(number_of_students)\n0                      398",
      "text/html": "<div>\n<style scoped>\n    .dataframe tbody tr th:only-of-type {\n        vertical-align: middle;\n    }\n\n    .dataframe tbody tr th {\n        vertical-align: top;\n    }\n\n    .dataframe thead th {\n        text-align: right;\n    }\n</style>\n<table border=\"1\" class=\"dataframe\">\n  <thead>\n    <tr style=\"text-align: right;\">\n      <th></th>\n      <th>SUM(number_of_students)</th>\n    </tr>\n  </thead>\n  <tbody>\n    <tr>\n      <th>0</th>\n      <td>398</td>\n    </tr>\n  </tbody>\n</table>\n</div>"
     },
     "execution_count": 12,
     "metadata": {},
     "output_type": "execute_result"
    }
   ],
   "source": [
    "#codes here\n",
    "total_number = pd.read_sql(\" SELECT SUM(number_of_students) FROM courses\",conn)\n",
    "total_number"
   ]
  },
  {
   "cell_type": "markdown",
   "id": "c69d707e",
   "metadata": {
    "pycharm": {
     "name": "#%% md\n"
    }
   },
   "source": [
    "Question 11) Show course names in ascending order by using a SQL query"
   ]
  },
  {
   "cell_type": "code",
   "execution_count": 13,
   "id": "7e292c37",
   "metadata": {
    "pycharm": {
     "name": "#%%\n"
    }
   },
   "outputs": [
    {
     "data": {
      "text/plain": "                                   course_name\n0                              Data Structures\n1                     Elements of Data Science\n2                     Elements of Data Science\n3              Foundations of Machine Learning\n4                             Freshman Seminar\n5  Introduction to Natural Language Processing\n6                        Programming Languages\n7                        Programming Languages",
      "text/html": "<div>\n<style scoped>\n    .dataframe tbody tr th:only-of-type {\n        vertical-align: middle;\n    }\n\n    .dataframe tbody tr th {\n        vertical-align: top;\n    }\n\n    .dataframe thead th {\n        text-align: right;\n    }\n</style>\n<table border=\"1\" class=\"dataframe\">\n  <thead>\n    <tr style=\"text-align: right;\">\n      <th></th>\n      <th>course_name</th>\n    </tr>\n  </thead>\n  <tbody>\n    <tr>\n      <th>0</th>\n      <td>Data Structures</td>\n    </tr>\n    <tr>\n      <th>1</th>\n      <td>Elements of Data Science</td>\n    </tr>\n    <tr>\n      <th>2</th>\n      <td>Elements of Data Science</td>\n    </tr>\n    <tr>\n      <th>3</th>\n      <td>Foundations of Machine Learning</td>\n    </tr>\n    <tr>\n      <th>4</th>\n      <td>Freshman Seminar</td>\n    </tr>\n    <tr>\n      <th>5</th>\n      <td>Introduction to Natural Language Processing</td>\n    </tr>\n    <tr>\n      <th>6</th>\n      <td>Programming Languages</td>\n    </tr>\n    <tr>\n      <th>7</th>\n      <td>Programming Languages</td>\n    </tr>\n  </tbody>\n</table>\n</div>"
     },
     "execution_count": 13,
     "metadata": {},
     "output_type": "execute_result"
    }
   ],
   "source": [
    "#codes here\n",
    "course_names = pd.read_sql(\"SELECT course_name FROM courses ORDER BY course_name\",conn) \n",
    "# Also we can show this with \"SELECT DISTINCT\" for no duplication\n",
    "course_names"
   ]
  },
  {
   "cell_type": "markdown",
   "id": "3932d386",
   "metadata": {
    "pycharm": {
     "name": "#%% md\n"
    }
   },
   "source": [
    "Question 12) Show courses which codes 'AIN 212' by using a SQL query"
   ]
  },
  {
   "cell_type": "code",
   "execution_count": 14,
   "id": "03fa2f6b",
   "metadata": {
    "pycharm": {
     "name": "#%%\n"
    }
   },
   "outputs": [
    {
     "data": {
      "text/plain": "   index course_codes               course_name      day  number_of_students\n0      1       AIN212  Elements of Data Science  Tuesday                  35\n1      2       AIN212  Elements of Data Science   Monday                  35",
      "text/html": "<div>\n<style scoped>\n    .dataframe tbody tr th:only-of-type {\n        vertical-align: middle;\n    }\n\n    .dataframe tbody tr th {\n        vertical-align: top;\n    }\n\n    .dataframe thead th {\n        text-align: right;\n    }\n</style>\n<table border=\"1\" class=\"dataframe\">\n  <thead>\n    <tr style=\"text-align: right;\">\n      <th></th>\n      <th>index</th>\n      <th>course_codes</th>\n      <th>course_name</th>\n      <th>day</th>\n      <th>number_of_students</th>\n    </tr>\n  </thead>\n  <tbody>\n    <tr>\n      <th>0</th>\n      <td>1</td>\n      <td>AIN212</td>\n      <td>Elements of Data Science</td>\n      <td>Tuesday</td>\n      <td>35</td>\n    </tr>\n    <tr>\n      <th>1</th>\n      <td>2</td>\n      <td>AIN212</td>\n      <td>Elements of Data Science</td>\n      <td>Monday</td>\n      <td>35</td>\n    </tr>\n  </tbody>\n</table>\n</div>"
     },
     "execution_count": 14,
     "metadata": {},
     "output_type": "execute_result"
    }
   ],
   "source": [
    "#codes here\n",
    "ain_212 =  pd.read_sql(\"SELECT * FROM courses WHERE course_codes == 'AIN212'\",conn)\n",
    "ain_212"
   ]
  },
  {
   "cell_type": "markdown",
   "id": "890b1676",
   "metadata": {
    "pycharm": {
     "name": "#%% md\n"
    }
   },
   "source": [
    "Question 13)  Show all data without duplicates by using a SQL query"
   ]
  },
  {
   "cell_type": "code",
   "execution_count": 15,
   "id": "2ed9cce8",
   "metadata": {
    "pycharm": {
     "name": "#%%\n"
    }
   },
   "outputs": [
    {
     "data": {
      "text/plain": "  course_codes                                  course_name        day\n0       AIN101                             Freshman Seminar     Monday\n1       AIN212                     Elements of Data Science    Tuesday\n2       AIN212                     Elements of Data Science     Monday\n3       AIN311              Foundations of Machine Learning  Wednesday\n4       AIN440  Introduction to Natural Language Processing    Tuesday\n5       BBM201                              Data Structures     Friday\n6       BBM301                        Programming Languages   Thursday",
      "text/html": "<div>\n<style scoped>\n    .dataframe tbody tr th:only-of-type {\n        vertical-align: middle;\n    }\n\n    .dataframe tbody tr th {\n        vertical-align: top;\n    }\n\n    .dataframe thead th {\n        text-align: right;\n    }\n</style>\n<table border=\"1\" class=\"dataframe\">\n  <thead>\n    <tr style=\"text-align: right;\">\n      <th></th>\n      <th>course_codes</th>\n      <th>course_name</th>\n      <th>day</th>\n    </tr>\n  </thead>\n  <tbody>\n    <tr>\n      <th>0</th>\n      <td>AIN101</td>\n      <td>Freshman Seminar</td>\n      <td>Monday</td>\n    </tr>\n    <tr>\n      <th>1</th>\n      <td>AIN212</td>\n      <td>Elements of Data Science</td>\n      <td>Tuesday</td>\n    </tr>\n    <tr>\n      <th>2</th>\n      <td>AIN212</td>\n      <td>Elements of Data Science</td>\n      <td>Monday</td>\n    </tr>\n    <tr>\n      <th>3</th>\n      <td>AIN311</td>\n      <td>Foundations of Machine Learning</td>\n      <td>Wednesday</td>\n    </tr>\n    <tr>\n      <th>4</th>\n      <td>AIN440</td>\n      <td>Introduction to Natural Language Processing</td>\n      <td>Tuesday</td>\n    </tr>\n    <tr>\n      <th>5</th>\n      <td>BBM201</td>\n      <td>Data Structures</td>\n      <td>Friday</td>\n    </tr>\n    <tr>\n      <th>6</th>\n      <td>BBM301</td>\n      <td>Programming Languages</td>\n      <td>Thursday</td>\n    </tr>\n  </tbody>\n</table>\n</div>"
     },
     "execution_count": 15,
     "metadata": {},
     "output_type": "execute_result"
    }
   ],
   "source": [
    "#codes here\n",
    "nonduplicates_courses = pd.read_sql(\"SELECT DISTINCT course_codes,course_name,day FROM courses\",conn)\n",
    "nonduplicates_courses "
   ]
  },
  {
   "cell_type": "markdown",
   "id": "87aeb01f",
   "metadata": {
    "pycharm": {
     "name": "#%% md\n"
    }
   },
   "source": [
    "Question 14) Change AIN311 course's day to Friday and display it by using a SQL query"
   ]
  },
  {
   "cell_type": "code",
   "execution_count": 16,
   "id": "f51d3e3e",
   "metadata": {
    "pycharm": {
     "name": "#%%\n"
    }
   },
   "outputs": [
    {
     "data": {
      "text/plain": "   index course_codes                      course_name     day  \\\n0      3       AIN311  Foundations of Machine Learning  Friday   \n\n   number_of_students  \n0                  40  ",
      "text/html": "<div>\n<style scoped>\n    .dataframe tbody tr th:only-of-type {\n        vertical-align: middle;\n    }\n\n    .dataframe tbody tr th {\n        vertical-align: top;\n    }\n\n    .dataframe thead th {\n        text-align: right;\n    }\n</style>\n<table border=\"1\" class=\"dataframe\">\n  <thead>\n    <tr style=\"text-align: right;\">\n      <th></th>\n      <th>index</th>\n      <th>course_codes</th>\n      <th>course_name</th>\n      <th>day</th>\n      <th>number_of_students</th>\n    </tr>\n  </thead>\n  <tbody>\n    <tr>\n      <th>0</th>\n      <td>3</td>\n      <td>AIN311</td>\n      <td>Foundations of Machine Learning</td>\n      <td>Friday</td>\n      <td>40</td>\n    </tr>\n  </tbody>\n</table>\n</div>"
     },
     "execution_count": 16,
     "metadata": {},
     "output_type": "execute_result"
    }
   ],
   "source": [
    "#codes here\n",
    "sql = \"UPDATE courses SET day = 'Friday' WHERE course_codes = 'AIN311'\"\n",
    "cur = conn.cursor()\n",
    "cur.execute(sql)\n",
    "conn.commit()\n",
    "ain311 = pd.read_sql(\"SELECT * FROM courses WHERE course_codes = 'AIN311' \",conn)\n",
    "ain311"
   ]
  }
 ],
 "metadata": {
  "kernelspec": {
   "display_name": "Python 3",
   "language": "python",
   "name": "python3"
  },
  "language_info": {
   "codemirror_mode": {
    "name": "ipython",
    "version": 3
   },
   "file_extension": ".py",
   "mimetype": "text/x-python",
   "name": "python",
   "nbconvert_exporter": "python",
   "pygments_lexer": "ipython3",
   "version": "3.8.8"
  }
 },
 "nbformat": 4,
 "nbformat_minor": 5
}